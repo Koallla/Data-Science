{
  "nbformat": 4,
  "nbformat_minor": 0,
  "metadata": {
    "colab": {
      "name": "Hw2.3.ipynb",
      "provenance": [],
      "collapsed_sections": [],
      "mount_file_id": "1ITjpYOOFxbcZgiJZWLjKU7hbGHMc0o-3",
      "authorship_tag": "ABX9TyNFV+ZXN7QH5Rf4GCQFOMeX",
      "include_colab_link": true
    },
    "kernelspec": {
      "name": "python3",
      "display_name": "Python 3"
    },
    "language_info": {
      "name": "python"
    }
  },
  "cells": [
    {
      "cell_type": "markdown",
      "metadata": {
        "id": "view-in-github",
        "colab_type": "text"
      },
      "source": [
        "<a href=\"https://colab.research.google.com/github/Koallla/Data-Science/blob/hw2/Hw2.3.ipynb\" target=\"_parent\"><img src=\"https://colab.research.google.com/assets/colab-badge.svg\" alt=\"Open In Colab\"/></a>"
      ]
    },
    {
      "cell_type": "code",
      "metadata": {
        "id": "uGVpDgfYf_tW"
      },
      "source": [
        "import pandas as pd\n",
        "\n",
        "df = pd.read_csv('/content/drive/MyDrive/Colab Notebooks/bestsellers with categories.csv')\n",
        "df.head()\n",
        "df.shape\n",
        "# df[df['Year'] == 2019].sort_values(by=['User Rating'], ascending=False)"
      ],
      "execution_count": null,
      "outputs": []
    },
    {
      "cell_type": "markdown",
      "metadata": {
        "id": "nYHKcSrGGBb3"
      },
      "source": [
        "О скольки книгах хранит данные датасет? 550 книг"
      ]
    },
    {
      "cell_type": "code",
      "metadata": {
        "id": "PMaoo6qko1uK"
      },
      "source": [
        "df.columns = ['name', 'author', 'user_rating', 'reviews', 'price', 'year', 'genre']\n",
        "df.isna().sum()"
      ],
      "execution_count": null,
      "outputs": []
    },
    {
      "cell_type": "markdown",
      "metadata": {
        "id": "DF33iP_oIiU-"
      },
      "source": [
        "Есть ли в каких либо переменных пропуски? Нет"
      ]
    },
    {
      "cell_type": "code",
      "metadata": {
        "id": "vTgmxbixIuB6"
      },
      "source": [
        "df.genre.unique()"
      ],
      "execution_count": null,
      "outputs": []
    },
    {
      "cell_type": "markdown",
      "metadata": {
        "id": "ODixLTZjMjqB"
      },
      "source": [
        "Какие есть уникальные жанры? 'Non Fiction', 'Fiction'"
      ]
    },
    {
      "cell_type": "code",
      "metadata": {
        "colab": {
          "base_uri": "https://localhost:8080/",
          "height": 283
        },
        "id": "QNyYUj1WMwV5",
        "outputId": "b8a5fd33-6347-4a6b-db25-64ee27c5a765"
      },
      "source": [
        "df.price.plot(kind='hist')"
      ],
      "execution_count": 20,
      "outputs": [
        {
          "output_type": "execute_result",
          "data": {
            "text/plain": [
              "<matplotlib.axes._subplots.AxesSubplot at 0x7f9eaa5b0990>"
            ]
          },
          "metadata": {},
          "execution_count": 20
        },
        {
          "output_type": "display_data",
          "data": {
            "image/png": "[encoded data removed]",
            "text/plain": [
              "<Figure size 432x288 with 1 Axes>"
            ]
          },
          "metadata": {
            "needs_background": "light"
          }
        }
      ]
    },
    {
      "cell_type": "code",
      "metadata": {
        "colab": {
          "base_uri": "https://localhost:8080/"
        },
        "id": "qJ5S7q1gNzsW",
        "outputId": "eba7bb1f-bdfc-46d4-8f30-dc7ec999f969"
      },
      "source": [
        "df.price.max()\n",
        "df.price.min()\n",
        "df.price.mean()\n",
        "df.price.median()"
      ],
      "execution_count": 25,
      "outputs": [
        {
          "output_type": "execute_result",
          "data": {
            "text/plain": [
              "13.1"
            ]
          },
          "metadata": {},
          "execution_count": 25
        }
      ]
    },
    {
      "cell_type": "markdown",
      "metadata": {
        "id": "k5AyLzkrTwGi"
      },
      "source": [
        "Mаксимальная цена? 105\n",
        "Минимальная цена? 0\n",
        "Средняя цена? 13.1\n",
        "Медианная цена? 11.0"
      ]
    },
    {
      "cell_type": "code",
      "metadata": {
        "id": "ZtfobtANYaq2",
        "outputId": "def33721-e237-4505-b4b9-535d25eb3a67",
        "colab": {
          "base_uri": "https://localhost:8080/",
          "height": 81
        }
      },
      "source": [
        "# max_rating = df.user_rating.max()\n",
        "# (df['user_rating'] == max_rating).sum()\n",
        "# max_reviews = df.reviews.max()\n",
        "# df[df['reviews'] == max_reviews].name\n",
        "max_price_2015 = df[df.year == 2015].price.max()\n",
        "index = df[df.year == 2015].price.sort_values()[-1:].index\n",
        "df.iloc[index]"
      ],
      "execution_count": 98,
      "outputs": [
        {
          "output_type": "execute_result",
          "data": {
            "text/html": [
              "<div>\n",
              "<style scoped>\n",
              "    .dataframe tbody tr th:only-of-type {\n",
              "        vertical-align: middle;\n",
              "    }\n",
              "\n",
              "    .dataframe tbody tr th {\n",
              "        vertical-align: top;\n",
              "    }\n",
              "\n",
              "    .dataframe thead th {\n",
              "        text-align: right;\n",
              "    }\n",
              "</style>\n",
              "<table border=\"1\" class=\"dataframe\">\n",
              "  <thead>\n",
              "    <tr style=\"text-align: right;\">\n",
              "      <th></th>\n",
              "      <th>name</th>\n",
              "      <th>author</th>\n",
              "      <th>user_rating</th>\n",
              "      <th>reviews</th>\n",
              "      <th>price</th>\n",
              "      <th>year</th>\n",
              "      <th>genre</th>\n",
              "    </tr>\n",
              "  </thead>\n",
              "  <tbody>\n",
              "    <tr>\n",
              "      <th>277</th>\n",
              "      <td>Publication Manual of the American Psychologic...</td>\n",
              "      <td>American Psychological Association</td>\n",
              "      <td>4.5</td>\n",
              "      <td>8580</td>\n",
              "      <td>46</td>\n",
              "      <td>2015</td>\n",
              "      <td>Non Fiction</td>\n",
              "    </tr>\n",
              "  </tbody>\n",
              "</table>\n",
              "</div>"
            ],
            "text/plain": [
              "                                                  name  ...        genre\n",
              "277  Publication Manual of the American Psychologic...  ...  Non Fiction\n",
              "\n",
              "[1 rows x 7 columns]"
            ]
          },
          "metadata": {},
          "execution_count": 98
        }
      ]
    },
    {
      "cell_type": "markdown",
      "metadata": {
        "id": "Iw5TBUoPchJ_"
      },
      "source": [
        "Какой рейтинг в датасете наивысший? Ответ: 4.9\n",
        "Сколько книг имеют такой рейтинг? Ответ: 52\n",
        "У какой книги больше всего отзывов? Ответ: Where the Crawdads Sing\n",
        "Из тех книг, что попали в Топ-50 в 2015 году, какая книга самая дорогая (можно использовать промежуточный датафрейм)? Ответ: Publication Manual of the American Psychologic...  \n",
        "Сколько книг жанра Fiction попали в Топ-50 в 2010 году (используйте &)? Ответ:\n",
        "Сколько книг c рейтингом 4.9 попало в рейтинг в 2010 и 2011 годах (используйте | или функцию isin)? Ответ:\n",
        "Какая книга последняя в отсортированном списке? Ответ:"
      ]
    }
  ]
}