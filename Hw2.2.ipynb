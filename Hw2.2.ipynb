{
  "nbformat": 4,
  "nbformat_minor": 0,
  "metadata": {
    "colab": {
      "name": "Hw2.2.ipynb",
      "provenance": [],
      "collapsed_sections": [],
      "authorship_tag": "ABX9TyNvb6EjokyrBFe0K7qJ6E4Z",
      "include_colab_link": true
    },
    "kernelspec": {
      "name": "python3",
      "display_name": "Python 3"
    },
    "language_info": {
      "name": "python"
    }
  },
  "cells": [
    {
      "cell_type": "markdown",
      "metadata": {
        "id": "view-in-github",
        "colab_type": "text"
      },
      "source": [
        "<a href=\"https://colab.research.google.com/github/Koallla/Data-Science/blob/hw2/Hw2.2.ipynb\" target=\"_parent\"><img src=\"https://colab.research.google.com/assets/colab-badge.svg\" alt=\"Open In Colab\"/></a>"
      ]
    },
    {
      "cell_type": "code",
      "metadata": {
        "colab": {
          "base_uri": "https://localhost:8080/"
        },
        "id": "9ST-J8vqD7o_",
        "outputId": "248af669-eadc-4490-ca7c-dfc3d7e23611"
      },
      "source": [
        "import pandas as pd\n",
        "\n",
        "url = 'https://docs.google.com/spreadsheets/d/1jOjukFoW306uv53FY6R79NcwQy5S4TZ9nprzRmBSHOs/export?format=csv&gid=271672803'\n",
        "\n",
        "\n",
        "def del_col_with_null(df_data):\n",
        "    for col in df_data:\n",
        "        if df_data[col].isnull().sum() and col != 'Язык.программирования':\n",
        "            df.drop(col, axis=1, inplace=True)\n",
        "\n",
        "\n",
        "def fill_avg_salary(df_data):\n",
        "    return df_data.mean()\n",
        "\n",
        "\n",
        "df = pd.read_csv(url)\n",
        "df.head()\n",
        "df.shape\n",
        "df.dtypes\n",
        "df.isnull().sum()\n",
        "del_col_with_null(df)\n",
        "df = df.dropna()\n",
        "df.shape\n",
        "python_data = df[df['Язык.программирования'] == 'Python']\n",
        "python_data.shape\n",
        "grouped = python_data.groupby(by='Должность')\n",
        "min_max_salary = grouped[['Зарплата.в.месяц']].agg([\n",
        "    lambda x: x.min(),\n",
        "    lambda x: x.max()\n",
        "])\n",
        "\n",
        "min_max_salary['avg'] = min_max_salary.apply(fill_avg_salary, axis=1)\n",
        "desc_avg = min_max_salary['avg'].describe()\n",
        "desc_avg.to_csv('data_salary.csv')"
      ],
      "execution_count": 7,
      "outputs": [
        {
          "output_type": "execute_result",
          "data": {
            "text/plain": [
              "count       5.000000\n",
              "mean     3337.500000\n",
              "std      1700.091909\n",
              "min       675.000000\n",
              "25%      2950.000000\n",
              "50%      3812.500000\n",
              "75%      4000.000000\n",
              "max      5250.000000\n",
              "Name: avg, dtype: float64"
            ]
          },
          "metadata": {},
          "execution_count": 7
        }
      ]
    },
    {
      "cell_type": "markdown",
      "metadata": {
        "id": "DwK2PkaUVYnX"
      },
      "source": [
        "# Новый раздел"
      ]
    }
  ]
}