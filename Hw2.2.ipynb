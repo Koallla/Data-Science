{
  "nbformat": 4,
  "nbformat_minor": 0,
  "metadata": {
    "colab": {
      "name": "Hw2.2.ipynb",
      "provenance": [],
      "collapsed_sections": [],
      "authorship_tag": "ABX9TyOBsvfHLTXQiUcfnKwS8KFs",
      "include_colab_link": true
    },
    "kernelspec": {
      "name": "python3",
      "display_name": "Python 3"
    },
    "language_info": {
      "name": "python"
    }
  },
  "cells": [
    {
      "cell_type": "markdown",
      "metadata": {
        "id": "view-in-github",
        "colab_type": "text"
      },
      "source": [
        "<a href=\"https://colab.research.google.com/github/Koallla/Data-Science/blob/hw2/Hw2.2.ipynb\" target=\"_parent\"><img src=\"https://colab.research.google.com/assets/colab-badge.svg\" alt=\"Open In Colab\"/></a>"
      ]
    },
    {
      "cell_type": "code",
      "metadata": {
        "id": "9ST-J8vqD7o_"
      },
      "source": [
        "import pandas as pd\n",
        "\n",
        "url = 'https://docs.google.com/spreadsheets/d/1jOjukFoW306uv53FY6R79NcwQy5S4TZ9nprzRmBSHOs/export?format=csv&gid=271672803'\n",
        "\n",
        "\n",
        "def del_col_with_null(df_data):\n",
        "    for col in df_data:\n",
        "        if df_data[col].isnull().sum() and col != 'Язык.программирования':\n",
        "            df.drop(col, axis=1, inplace=True)\n",
        "\n",
        "\n",
        "def fill_avg_salary(df_data):\n",
        "    return df_data.mean()\n",
        "\n",
        "\n",
        "df = pd.read_csv(url)\n",
        "df.head()\n",
        "df.shape\n",
        "df.dtypes\n",
        "df.isnull().sum()\n",
        "del_col_with_null(df)\n",
        "df = df.dropna()\n",
        "df.shape\n",
        "python_data = df[df['Язык.программирования'] == 'Python']\n",
        "python_data.shape\n",
        "min_max_salary = python_data.groupby(by='Должность').agg(salary_min = ('Зарплата.в.месяц', 'min'), salary_max = ('Зарплата.в.месяц', 'max'))\n",
        "min_max_salary['avg'] = min_max_salary.apply(fill_avg_salary, axis=1)\n",
        "desc_avg = min_max_salary['avg'].describe()\n",
        "desc_avg.to_csv('data_salary.csv')"
      ],
      "execution_count": 23,
      "outputs": []
    },
    {
      "cell_type": "markdown",
      "metadata": {
        "id": "DwK2PkaUVYnX"
      },
      "source": [
        "# Новый раздел"
      ]
    }
  ]
}