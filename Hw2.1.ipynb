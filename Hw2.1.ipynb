{
 "cells": [
  {
   "cell_type": "code",
   "execution_count": 10,
   "source": [
    "import numpy as np\r\n",
    "import pandas as pd\r\n",
    "import matplotlib \r\n",
    "\r\n",
    "\r\n",
    "url = 'https://uk.m.wikipedia.org/wiki/%D0%9D%D0%B0%D1%81%D0%B5%D0%BB%D0%B5%D0%BD%D0%BD%D1%8F_%D0%A3%D0%BA%D1%80%D0%B0%D1%97%D0%BD%D0%B8#%D0%9D%D0%B0%D1%80%D0%BE%D0%B4%D0%B6%D1%83%D0%B2%D0%B0%D0%BD%D1%96%D1%81%D1%82%D1%8C'\r\n",
    "match = 'Коефіцієнт народжуваності в регіонах України'\r\n",
    "\r\n",
    "df = pd.read_html(url, match=match)[0]\r\n",
    "\r\n",
    "head_data = df.head()\r\n",
    "shape = df.shape\r\n",
    "df.replace(\"—\", np.nan, inplace=True)\r\n",
    "dtypes = df.dtypes\r\n",
    "df = df.astype({'2014': np.float64, '2019': np.float64})\r\n",
    "col_isnull_sum = df.isnull().sum()\r\n",
    "df.drop([27], inplace=True)\r\n",
    "df.fillna(df.mean(numeric_only=True), inplace=True)\r\n",
    "df[df['2019'] > df['2019'].mean()]['Регіон']\r\n",
    "max_val_2014 = df.loc[df['2014'] == df['2014'].max()]['Регіон']\r\n",
    "df[['Регіон', '2019']].plot.bar(rot=0)\r\n",
    "\r\n",
    "\r\n"
   ],
   "outputs": [
    {
     "output_type": "execute_result",
     "data": {
      "text/plain": [
       "<AxesSubplot:>"
      ]
     },
     "metadata": {},
     "execution_count": 10
    },
    {
     "output_type": "display_data",
     "data": {
      "image/png": "[encoded data removed]",
      "text/plain": [
       "<Figure size 432x288 with 1 Axes>"
      ]
     },
     "metadata": {
      "needs_background": "light"
     }
    }
   ],
   "metadata": {}
  },
  {
   "cell_type": "code",
   "execution_count": null,
   "source": [
    "\r\n",
    "\r\n",
    "\r\n"
   ],
   "outputs": [],
   "metadata": {}
  },
  {
   "cell_type": "code",
   "execution_count": null,
   "source": [],
   "outputs": [],
   "metadata": {}
  },
  {
   "cell_type": "code",
   "execution_count": null,
   "source": [],
   "outputs": [],
   "metadata": {}
  }
 ],
 "metadata": {
  "interpreter": {
   "hash": "56ba6204e48fe33def1371443f8b7f77349d748e309d79101916124a0229d616"
  },
  "kernelspec": {
   "name": "python3",
   "display_name": "Python 3.9.1 64-bit ('venv': venv)"
  },
  "language_info": {
   "codemirror_mode": {
    "name": "ipython",
    "version": 3
   },
   "file_extension": ".py",
   "mimetype": "text/x-python",
   "name": "python",
   "nbconvert_exporter": "python",
   "pygments_lexer": "ipython3",
   "version": "3.9.1"
  }
 },
 "nbformat": 4,
 "nbformat_minor": 5
}