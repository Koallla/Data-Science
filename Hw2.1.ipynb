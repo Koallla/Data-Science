{
  "nbformat": 4,
  "nbformat_minor": 0,
  "metadata": {
    "colab": {
      "name": "Hw2.1.ipynb",
      "provenance": [],
      "authorship_tag": "ABX9TyOEbxcsMMSsxXHC2E4ZGvwT",
      "include_colab_link": true
    },
    "kernelspec": {
      "name": "python3",
      "display_name": "Python 3"
    },
    "language_info": {
      "name": "python"
    }
  },
  "cells": [
    {
      "cell_type": "markdown",
      "metadata": {
        "id": "view-in-github",
        "colab_type": "text"
      },
      "source": [
        "<a href=\"https://colab.research.google.com/github/Koallla/Data-Science/blob/hw2/Hw2_1.ipynb\" target=\"_parent\"><img src=\"https://colab.research.google.com/assets/colab-badge.svg\" alt=\"Open In Colab\"/></a>"
      ]
    },
    {
      "cell_type": "code",
      "metadata": {
        "colab": {
          "base_uri": "https://localhost:8080/",
          "height": 265
        },
        "id": "hx2dyQnlChxZ",
        "outputId": "d11f593a-c412-47f0-81e4-56ef7d767d67"
      },
      "source": [
        "import numpy as np\n",
        "import pandas as pd\n",
        "import matplotlib.pyplot as plt\n",
        "\n",
        "\n",
        "url = 'https://uk.m.wikipedia.org/wiki/%D0%9D%D0%B0%D1%81%D0%B5%D0%BB%D0%B5%D0%BD%D0%BD%D1%8F_%D0%A3%D0%BA%D1%80%D0%B0%D1%97%D0%BD%D0%B8#%D0%9D%D0%B0%D1%80%D0%BE%D0%B4%D0%B6%D1%83%D0%B2%D0%B0%D0%BD%D1%96%D1%81%D1%82%D1%8C'\n",
        "match = 'Коефіцієнт народжуваності в регіонах України'\n",
        "\n",
        "df = pd.read_html(url, match=match, thousands='.', decimal=',')[0]\n",
        "\n",
        "head_data = df.head()\n",
        "head_data\n",
        "df.shape\n",
        "df.replace(\"—\", np.nan, inplace=True)\n",
        "dtypes = df.dtypes\n",
        "df = df.astype({'2014': np.float64, '2019': np.float64})\n",
        "col_isnull_sum = df.isnull().sum()\n",
        "df.drop([27], inplace=True)\n",
        "df.fillna(df.mean(numeric_only=True), inplace=True)\n",
        "df[df['2019'] > df['2019'].mean()]['Регіон']\n",
        "max_val_2014 = df.loc[df['2014'] == df['2014'].max()]['Регіон']\n",
        "df[['Регіон', '2019']].plot.bar(rot=0)\n",
        "plt.show()"
      ],
      "execution_count": 1,
      "outputs": [
        {
          "output_type": "display_data",
          "data": {
            "image/png": "[encoded data removed]",
            "text/plain": [
              "<Figure size 432x288 with 1 Axes>"
            ]
          },
          "metadata": {
            "needs_background": "light"
          }
        }
      ]
    }
  ]
}