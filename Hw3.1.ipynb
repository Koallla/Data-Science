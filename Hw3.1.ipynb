{
  "nbformat": 4,
  "nbformat_minor": 0,
  "metadata": {
    "colab": {
      "name": "Hw2.1.ipynb",
      "provenance": [],
      "authorship_tag": "ABX9TyPjRJ7LzIqLTz4PgYXwf+my",
      "include_colab_link": true
    },
    "kernelspec": {
      "name": "python3",
      "display_name": "Python 3"
    },
    "language_info": {
      "name": "python"
    }
  },
  "cells": [
    {
      "cell_type": "markdown",
      "metadata": {
        "id": "view-in-github",
        "colab_type": "text"
      },
      "source": [
        "<a href=\"https://colab.research.google.com/github/Koallla/Data-Science/blob/hw3/Hw3.1.ipynb\" target=\"_parent\"><img src=\"https://colab.research.google.com/assets/colab-badge.svg\" alt=\"Open In Colab\"/></a>"
      ]
    },
    {
      "cell_type": "code",
      "metadata": {
        "id": "hx2dyQnlChxZ"
      },
      "source": [
        "import numpy as np\n",
        "import pandas as pd\n",
        "import matplotlib.pyplot as plt\n",
        "\n",
        "\n",
        "url = 'https://uk.m.wikipedia.org/wiki/%D0%9D%D0%B0%D1%81%D0%B5%D0%BB%D0%B5%D0%BD%D0%BD%D1%8F_%D0%A3%D0%BA%D1%80%D0%B0%D1%97%D0%BD%D0%B8#%D0%9D%D0%B0%D1%80%D0%BE%D0%B4%D0%B6%D1%83%D0%B2%D0%B0%D0%BD%D1%96%D1%81%D1%82%D1%8C'\n",
        "match = 'Коефіцієнт народжуваності в регіонах України'\n",
        "\n",
        "df = pd.read_html(url, match=match, thousands='.', decimal=',')[0]\n",
        "\n",
        "head_data = df.head()\n",
        "head_data\n",
        "df.shape\n",
        "df.replace(\"—\", np.nan, inplace=True)\n",
        "dtypes = df.dtypes\n"
      ],
      "execution_count": 115,
      "outputs": []
    },
    {
      "cell_type": "code",
      "metadata": {
        "id": "Lg2K50h0LQek"
      },
      "source": [
        "df = df.astype({'2014': np.float64, '2019': np.float64})\n"
      ],
      "execution_count": 116,
      "outputs": []
    },
    {
      "cell_type": "code",
      "metadata": {
        "id": "dEdahnmGQvi-",
        "colab": {
          "base_uri": "https://localhost:8080/"
        },
        "outputId": "b7eda0fb-2ad7-440d-c16f-8086a7ede4cb"
      },
      "source": [
        "df.isnull().sum()"
      ],
      "execution_count": 117,
      "outputs": [
        {
          "output_type": "execute_result",
          "data": {
            "text/plain": [
              "Регіон    0\n",
              "1950      2\n",
              "1960      1\n",
              "1970      1\n",
              "1990      0\n",
              "2000      0\n",
              "2012      0\n",
              "2014      2\n",
              "2019      4\n",
              "dtype: int64"
            ]
          },
          "metadata": {},
          "execution_count": 117
        }
      ]
    },
    {
      "cell_type": "code",
      "metadata": {
        "id": "EtA-XoA6R9IB",
        "colab": {
          "base_uri": "https://localhost:8080/",
          "height": 312
        },
        "outputId": "19c53327-3f98-4059-f147-d093df53cbaf"
      },
      "source": [
        "years = df.keys()[1:]\n",
        "data_ukr = df[df['Регіон'] == 'Україна']\n",
        "data = data_ukr.iloc[0][1:]\n",
        "plt.title('Коэфициент рождаемости в Украине 1950-2019')\n",
        "plt.xlabel('Год', fontsize='small', color='midnightblue')\n",
        "plt.ylabel('Коэфициент', fontsize='small', color='midnightblue')\n",
        "plt.plot(years, data)"
      ],
      "execution_count": 118,
      "outputs": [
        {
          "output_type": "execute_result",
          "data": {
            "text/plain": [
              "[<matplotlib.lines.Line2D at 0x7f8ed3b75bd0>]"
            ]
          },
          "metadata": {},
          "execution_count": 118
        },
        {
          "output_type": "display_data",
          "data": {
            "image/png": "[encoded data removed]",
            "text/plain": [
              "<Figure size 432x288 with 1 Axes>"
            ]
          },
          "metadata": {
            "needs_background": "light"
          }
        }
      ]
    },
    {
      "cell_type": "code",
      "metadata": {
        "id": "pbeuyDsvRqxu"
      },
      "source": [
        "df.drop([27], inplace=True)"
      ],
      "execution_count": 119,
      "outputs": []
    },
    {
      "cell_type": "code",
      "metadata": {
        "id": "JFSLjqE3Rz0P"
      },
      "source": [
        "df.fillna(df.mean(numeric_only=True), inplace=True)"
      ],
      "execution_count": 120,
      "outputs": []
    },
    {
      "cell_type": "code",
      "metadata": {
        "id": "6gbBEnVgR5lX",
        "outputId": "bf99f361-4d94-478a-9c0d-aeb792a9a3ae",
        "colab": {
          "base_uri": "https://localhost:8080/"
        }
      },
      "source": [
        "df[df['2019'] > df['2019'].mean()]['Регіон']"
      ],
      "execution_count": 121,
      "outputs": [
        {
          "output_type": "execute_result",
          "data": {
            "text/plain": [
              "0                  Крим\n",
              "2             Волинська\n",
              "4              Донецька\n",
              "6          Закарпатська\n",
              "8     Івано-Франківська\n",
              "11            Луганська\n",
              "12            Львівська\n",
              "14              Одеська\n",
              "16           Рівненська\n",
              "20           Херсонська\n",
              "23          Чернівецька\n",
              "25                 Київ\n",
              "26          Севастополь\n",
              "Name: Регіон, dtype: object"
            ]
          },
          "metadata": {},
          "execution_count": 121
        }
      ]
    },
    {
      "cell_type": "code",
      "metadata": {
        "id": "sfd6VTfmR7aX",
        "outputId": "f74e2171-a423-4bd2-8117-59d5ac11a635",
        "colab": {
          "base_uri": "https://localhost:8080/"
        }
      },
      "source": [
        "max_val_2014 = df.loc[df['2014'] == df['2014'].max()]['Регіон']\n",
        "max_val_2014"
      ],
      "execution_count": 122,
      "outputs": [
        {
          "output_type": "execute_result",
          "data": {
            "text/plain": [
              "16    Рівненська\n",
              "Name: Регіон, dtype: object"
            ]
          },
          "metadata": {},
          "execution_count": 122
        }
      ]
    },
    {
      "cell_type": "code",
      "metadata": {
        "id": "GFzYwTDJR9Cb",
        "outputId": "65728a1e-03d8-49f4-c6d7-3a4b1a3132ab",
        "colab": {
          "base_uri": "https://localhost:8080/",
          "height": 1000
        }
      },
      "source": [
        "y = df['2019']\n",
        "x = df['Регіон']\n",
        "fig, ax = plt.subplots()\n",
        "ax.bar(x, y, color='g', edgecolor='black')\n",
        "fig.set_figwidth(20) \n",
        "fig.set_figheight(8)\n",
        "plt.xlabel('Регион', fontsize='small', color='b')\n",
        "plt.ylabel('Коэфициент', fontsize='small', color='b')\n",
        "plt.title('Коэфициент рождаемости по регионам 2019 год', fontsize=15)\n",
        "plt.xticks(range(len(y)), x, rotation='vertical')\n",
        "\n"
      ],
      "execution_count": 123,
      "outputs": [
        {
          "output_type": "execute_result",
          "data": {
            "text/plain": [
              "([<matplotlib.axis.XTick at 0x7f8ed3b364d0>,\n",
              "  <matplotlib.axis.XTick at 0x7f8ed3b36690>,\n",
              "  <matplotlib.axis.XTick at 0x7f8ed3b37290>,\n",
              "  <matplotlib.axis.XTick at 0x7f8ed3acae10>,\n",
              "  <matplotlib.axis.XTick at 0x7f8ed3a24090>,\n",
              "  <matplotlib.axis.XTick at 0x7f8ed3a24a10>,\n",
              "  <matplotlib.axis.XTick at 0x7f8ed3a248d0>,\n",
              "  <matplotlib.axis.XTick at 0x7f8ed3a2b510>,\n",
              "  <matplotlib.axis.XTick at 0x7f8ed3a2ba50>,\n",
              "  <matplotlib.axis.XTick at 0x7f8ed3a2b910>,\n",
              "  <matplotlib.axis.XTick at 0x7f8ed3a324d0>,\n",
              "  <matplotlib.axis.XTick at 0x7f8ed3a32a10>,\n",
              "  <matplotlib.axis.XTick at 0x7f8ed3a328d0>,\n",
              "  <matplotlib.axis.XTick at 0x7f8ed3a394d0>,\n",
              "  <matplotlib.axis.XTick at 0x7f8ed3a32990>,\n",
              "  <matplotlib.axis.XTick at 0x7f8ed3a24f10>,\n",
              "  <matplotlib.axis.XTick at 0x7f8ed3a39650>,\n",
              "  <matplotlib.axis.XTick at 0x7f8ed3a39b50>,\n",
              "  <matplotlib.axis.XTick at 0x7f8ed3a39d90>,\n",
              "  <matplotlib.axis.XTick at 0x7f8ed3a44610>,\n",
              "  <matplotlib.axis.XTick at 0x7f8ed3a44b50>,\n",
              "  <matplotlib.axis.XTick at 0x7f8ed3a44d90>,\n",
              "  <matplotlib.axis.XTick at 0x7f8ed3a4b610>,\n",
              "  <matplotlib.axis.XTick at 0x7f8ed3a4bb50>,\n",
              "  <matplotlib.axis.XTick at 0x7f8ed3a446d0>,\n",
              "  <matplotlib.axis.XTick at 0x7f8ed3a32690>,\n",
              "  <matplotlib.axis.XTick at 0x7f8ed3a4b7d0>],\n",
              " [Text(0, 0, 'Крим'),\n",
              "  Text(0, 0, 'Вінницька'),\n",
              "  Text(0, 0, 'Волинська'),\n",
              "  Text(0, 0, 'Дніпропетровська'),\n",
              "  Text(0, 0, 'Донецька'),\n",
              "  Text(0, 0, 'Житомирська'),\n",
              "  Text(0, 0, 'Закарпатська'),\n",
              "  Text(0, 0, 'Запорізька'),\n",
              "  Text(0, 0, 'Івано-Франківська'),\n",
              "  Text(0, 0, 'Київська'),\n",
              "  Text(0, 0, 'Кіровоградська'),\n",
              "  Text(0, 0, 'Луганська'),\n",
              "  Text(0, 0, 'Львівська'),\n",
              "  Text(0, 0, 'Миколаївська'),\n",
              "  Text(0, 0, 'Одеська'),\n",
              "  Text(0, 0, 'Полтавська'),\n",
              "  Text(0, 0, 'Рівненська'),\n",
              "  Text(0, 0, 'Сумська'),\n",
              "  Text(0, 0, 'Тернопільська'),\n",
              "  Text(0, 0, 'Харківська'),\n",
              "  Text(0, 0, 'Херсонська'),\n",
              "  Text(0, 0, 'Хмельницька'),\n",
              "  Text(0, 0, 'Черкаська'),\n",
              "  Text(0, 0, 'Чернівецька'),\n",
              "  Text(0, 0, 'Чернігівська'),\n",
              "  Text(0, 0, 'Київ'),\n",
              "  Text(0, 0, 'Севастополь')])"
            ]
          },
          "metadata": {},
          "execution_count": 123
        },
        {
          "output_type": "display_data",
          "data": {
            "image/png": "[encoded data removed]",
            "text/plain": [
              "<Figure size 1440x576 with 1 Axes>"
            ]
          },
          "metadata": {
            "needs_background": "light"
          }
        }
      ]
    }
  ]
}