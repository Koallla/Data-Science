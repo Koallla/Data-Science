{
  "nbformat": 4,
  "nbformat_minor": 0,
  "metadata": {
    "colab": {
      "name": "Hw2.1.ipynb",
      "provenance": [],
      "authorship_tag": "ABX9TyNBJ+s1tI2g8fqK9cYwErWv",
      "include_colab_link": true
    },
    "kernelspec": {
      "name": "python3",
      "display_name": "Python 3"
    },
    "language_info": {
      "name": "python"
    }
  },
  "cells": [
    {
      "cell_type": "markdown",
      "metadata": {
        "id": "view-in-github",
        "colab_type": "text"
      },
      "source": [
        "<a href=\"https://colab.research.google.com/github/Koallla/Data-Science/blob/hw3/Hw3.1.ipynb\" target=\"_parent\"><img src=\"https://colab.research.google.com/assets/colab-badge.svg\" alt=\"Open In Colab\"/></a>"
      ]
    },
    {
      "cell_type": "code",
      "metadata": {
        "id": "hx2dyQnlChxZ"
      },
      "source": [
        "import numpy as np\n",
        "import pandas as pd\n",
        "import matplotlib.pyplot as plt\n",
        "\n",
        "\n",
        "url = 'https://uk.m.wikipedia.org/wiki/%D0%9D%D0%B0%D1%81%D0%B5%D0%BB%D0%B5%D0%BD%D0%BD%D1%8F_%D0%A3%D0%BA%D1%80%D0%B0%D1%97%D0%BD%D0%B8#%D0%9D%D0%B0%D1%80%D0%BE%D0%B4%D0%B6%D1%83%D0%B2%D0%B0%D0%BD%D1%96%D1%81%D1%82%D1%8C'\n",
        "match = 'Коефіцієнт народжуваності в регіонах України'\n",
        "\n",
        "df = pd.read_html(url, match=match, thousands='.', decimal=',')[0]\n",
        "\n",
        "head_data = df.head()\n",
        "head_data\n",
        "df.shape\n",
        "df.replace(\"—\", np.nan, inplace=True)\n",
        "dtypes = df.dtypes\n"
      ],
      "execution_count": 22,
      "outputs": []
    },
    {
      "cell_type": "code",
      "metadata": {
        "id": "Lg2K50h0LQek"
      },
      "source": [
        "df = df.astype({'2014': np.float64, '2019': np.float64})\n"
      ],
      "execution_count": 23,
      "outputs": []
    },
    {
      "cell_type": "code",
      "metadata": {
        "id": "dEdahnmGQvi-",
        "outputId": "9ab48567-8ba4-47ac-f964-b527b38a5d87",
        "colab": {
          "base_uri": "https://localhost:8080/"
        }
      },
      "source": [
        "df.isnull().sum()"
      ],
      "execution_count": 24,
      "outputs": [
        {
          "output_type": "execute_result",
          "data": {
            "text/plain": [
              "Регіон    0\n",
              "1950      2\n",
              "1960      1\n",
              "1970      1\n",
              "1990      0\n",
              "2000      0\n",
              "2012      0\n",
              "2014      2\n",
              "2019      4\n",
              "dtype: int64"
            ]
          },
          "metadata": {},
          "execution_count": 24
        }
      ]
    },
    {
      "cell_type": "code",
      "metadata": {
        "id": "EtA-XoA6R9IB",
        "outputId": "140f2721-30c3-4a09-b846-df808d1535b5",
        "colab": {
          "base_uri": "https://localhost:8080/",
          "height": 299
        }
      },
      "source": [
        "years = df.keys()[1:]\n",
        "data_ukr = df[df['Регіон'] == 'Україна']\n",
        "data = data_ukr.iloc[0][1:]\n",
        "plt.title('График рождаемости по Украине')\n",
        "plt.plot(years, data)\n",
        "# df.drop([27], inplace=True)\n",
        "# df.fillna(df.mean(numeric_only=True), inplace=True)\n",
        "# df[df['2019'] > df['2019'].mean()]['Регіон']\n",
        "# max_val_2014 = df.loc[df['2014'] == df['2014'].max()]['Регіон']\n",
        "# df[['Регіон', '2019']].plot.bar(rot=0)\n",
        "# plt.show()"
      ],
      "execution_count": 67,
      "outputs": [
        {
          "output_type": "execute_result",
          "data": {
            "text/plain": [
              "[<matplotlib.lines.Line2D at 0x7f452d220510>]"
            ]
          },
          "metadata": {},
          "execution_count": 67
        },
        {
          "output_type": "display_data",
          "data": {
            "image/png": "[encoded data removed]",
            "text/plain": [
              "<Figure size 432x288 with 1 Axes>"
            ]
          },
          "metadata": {
            "needs_background": "light"
          }
        }
      ]
    }
  ]
}